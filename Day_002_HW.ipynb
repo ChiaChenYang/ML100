{
 "cells": [
  {
   "cell_type": "markdown",
   "metadata": {},
   "source": [
    "## [作業目標]\n",
    "了解機器學習適合應用的領域與範疇。"
   ]
  },
  {
   "cell_type": "markdown",
   "metadata": {},
   "source": [
    "## [作業重點]\n",
    "透過瞭解機器學習的運作方式，找出非常適用機器學習應用的領域及其原因"
   ]
  },
  {
   "cell_type": "markdown",
   "metadata": {},
   "source": [
    "## 作業\n",
    "請找出一個你認為機器學習可以發光發熱的領域並闡述原因? "
   ]
  },
  {
   "cell_type": "code",
   "execution_count": null,
   "metadata": {},
   "outputs": [],
   "source": [
    "金融領域，透過機器學習解決財務或金融服務的痛點，如：\n",
    "\n",
    "(1)自營業主希望有更便利、容易的借貸服務：透過 AI 來審核申請文件，可大幅降低審核及撥款的時間成本。\n",
    "\n",
    "(2)想投資理財，卻又沒有太多時間研究：銀行推出智能推播服務，依據投資人的風險屬性，分析過去的交易習慣，提供最適的基金標的建議，使客戶輕鬆完成交易。\n",
    "\n",
    "(3)不曉得該買哪種保險商品，不信任不熟的保險員：透過 AI、大數據、區塊鏈技術，可大幅提審核及理賠速度，降低客戶的等待時間。另外，也提升保險公司的風險管控能力，能更精準地察覺保險詐欺案並提出警示，有效降低其發生機率。\n",
    "\n",
    "(4)銀行客服服務效率低下：透過智能客服，用戶可透過文字輸入或語音對話的方式，精準提供個性化諮詢及服務，解決客戶有關帳戶、貸款申請、狀態更新的問題，也可以提供基本的理財建議。\n"
   ]
  }
 ],
 "metadata": {
  "kernelspec": {
   "display_name": "Python 3",
   "language": "python",
   "name": "python3"
  },
  "language_info": {
   "codemirror_mode": {
    "name": "ipython",
    "version": 3
   },
   "file_extension": ".py",
   "mimetype": "text/x-python",
   "name": "python",
   "nbconvert_exporter": "python",
   "pygments_lexer": "ipython3",
   "version": "3.7.6"
  }
 },
 "nbformat": 4,
 "nbformat_minor": 2
}
